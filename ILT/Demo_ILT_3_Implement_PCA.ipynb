{
  "nbformat": 4,
  "nbformat_minor": 0,
  "metadata": {
    "colab": {
      "name": "Demo-ILT 3-Implement PCA",
      "provenance": []
    },
    "kernelspec": {
      "name": "python3",
      "display_name": "Python 3"
    },
    "language_info": {
      "name": "python"
    },
    "accelerator": "GPU"
  },
  "cells": [
    {
      "cell_type": "markdown",
      "source": [
        "# Improve the Accuracy of the Classification Model using PCA\n",
        "\n",
        "In this demo, we will use the Breast cancer Wisconsin (diagnostic) dataset. This dataset contains 30 numerical features, with two target labels (WDBC-Malignant & WDBC-Benign). We will use the k-nearest neighbors (kNN) algorithm to classify the dataset into two labels. \n",
        "\n",
        "This demo aims to show how PCA can improve model accuracy and the training process with fewer features."
      ],
      "metadata": {
        "id": "YINddatLmyfr"
      }
    },
    {
      "cell_type": "markdown",
      "source": [
        "### Load Packages"
      ],
      "metadata": {
        "id": "rfvYed8fm2oq"
      }
    },
    {
      "cell_type": "code",
      "execution_count": null,
      "metadata": {
        "id": "XyPqX9jbmis0"
      },
      "outputs": [],
      "source": [
        "from sklearn import datasets\n",
        "from sklearn.metrics import accuracy_score\n",
        "from sklearn.model_selection import train_test_split\n",
        "from sklearn.neighbors import KNeighborsClassifier\n",
        "from sklearn.preprocessing import StandardScaler\n",
        "from sklearn.decomposition import PCA\n",
        "import numpy as np\n",
        "import matplotlib.pyplot as plt"
      ]
    },
    {
      "cell_type": "markdown",
      "source": [
        "## Load data"
      ],
      "metadata": {
        "id": "md_bq4q5nRLN"
      }
    },
    {
      "cell_type": "code",
      "source": [
        "data = datasets.load_breast_cancer()\n",
        "X = data.data\n",
        "y = data.target"
      ],
      "metadata": {
        "id": "C5xJP2BxnNI2"
      },
      "execution_count": null,
      "outputs": []
    },
    {
      "cell_type": "code",
      "source": [
        "print(\"Number of features: {}\".format(X.shape[1]))\n",
        "print(\"Number of samples: {}\".format(X.shape[0]))\n",
        "print(\"Number of labels: {}\".format(np.unique(y).shape[0]))"
      ],
      "metadata": {
        "colab": {
          "base_uri": "https://localhost:8080/"
        },
        "id": "9_efeDybxGFi",
        "outputId": "b6d8ba0c-fcd5-4408-d42d-6f24c6b5874f"
      },
      "execution_count": null,
      "outputs": [
        {
          "output_type": "stream",
          "name": "stdout",
          "text": [
            "Number of features: 30\n",
            "Number of samples: 569\n",
            "Number of labels: 2\n"
          ]
        }
      ]
    },
    {
      "cell_type": "markdown",
      "source": [
        "## Split & Standardize the dataset"
      ],
      "metadata": {
        "id": "f_QxWfrsntij"
      }
    },
    {
      "cell_type": "code",
      "source": [
        "# Split into training and testing sets.\n",
        "\n",
        "X_train, X_test, y_train, y_test = (train_test_split(X, y, test_size=0.2, random_state=216))"
      ],
      "metadata": {
        "id": "auO0lefonUZm"
      },
      "execution_count": null,
      "outputs": []
    },
    {
      "cell_type": "code",
      "source": [
        "# Standardize the features\n",
        "\n",
        "SC = StandardScaler()\n",
        "X_train_std = SC.fit_transform(X_train)\n",
        "X_test_std = SC.transform(X_test)"
      ],
      "metadata": {
        "id": "z4qDOrLdvFiS"
      },
      "execution_count": null,
      "outputs": []
    },
    {
      "cell_type": "markdown",
      "source": [
        "## Classification without PCA"
      ],
      "metadata": {
        "id": "kh40m5TDo6Jx"
      }
    },
    {
      "cell_type": "markdown",
      "source": [
        "### Define & train model\n"
      ],
      "metadata": {
        "id": "W17SVL9-n2vk"
      }
    },
    {
      "cell_type": "code",
      "source": [
        "knn_model = KNeighborsClassifier()\n",
        "knn_model = knn_model.fit(X_train_std, y_train)"
      ],
      "metadata": {
        "id": "7glTORO2nzfF"
      },
      "execution_count": null,
      "outputs": []
    },
    {
      "cell_type": "markdown",
      "source": [
        "### Evaluate model performance"
      ],
      "metadata": {
        "id": "uTAob4fwohni"
      }
    },
    {
      "cell_type": "code",
      "source": [
        "prediction = knn_model.predict(X_test_std)\n",
        "acc_withot_pca = accuracy_score(y_test, prediction)\n",
        "\n",
        "print(\"Model Accuracy without PCA: {}\".format(acc_withot_pca))"
      ],
      "metadata": {
        "colab": {
          "base_uri": "https://localhost:8080/"
        },
        "id": "z7x_TKluoetX",
        "outputId": "cad94a6c-7b23-480e-d070-4f2d8ed8f75e"
      },
      "execution_count": null,
      "outputs": [
        {
          "output_type": "stream",
          "name": "stdout",
          "text": [
            "Model Accuracy without PCA: 0.9736842105263158\n"
          ]
        }
      ]
    },
    {
      "cell_type": "markdown",
      "source": [
        "We achieve more than **97% accuracy** without using PCA. But we need to use all of the features to achieve this accuracy.\n",
        "\n",
        "Let's see how to improve the training process and model accuracy with fewer features."
      ],
      "metadata": {
        "id": "P_fRjDYL23z2"
      }
    },
    {
      "cell_type": "markdown",
      "source": [
        "## Classification with PCA"
      ],
      "metadata": {
        "id": "NSXYxcGKpG2P"
      }
    },
    {
      "cell_type": "markdown",
      "source": [
        "### Implement PCA to reduce the dimension of the dataset "
      ],
      "metadata": {
        "id": "AyOa0upqp6vP"
      }
    },
    {
      "cell_type": "code",
      "source": [
        "pca = PCA(n_components=None)\n",
        "X_train_pca = pca.fit_transform(X_train_std)"
      ],
      "metadata": {
        "id": "lzt9cxCtoxUm"
      },
      "execution_count": null,
      "outputs": []
    },
    {
      "cell_type": "code",
      "source": [
        "var_exp = pca.explained_variance_ratio_\n",
        "cum_var_exp = np.cumsum(var_exp)\n",
        "\n",
        "ax, fig = plt.subplots(1,1,figsize=(8, 4))\n",
        "# Plot explained variances.\n",
        "plt.bar(range(1, 31), var_exp, alpha=0.5, align='center',\n",
        "        label='individual explained variance')\n",
        "plt.step(range(1, 31), cum_var_exp, where='mid',\n",
        "         label='cumulative explained variance')\n",
        "plt.ylabel('Explained variance ratio')\n",
        "plt.xlabel('Principal component index')\n",
        "plt.legend(loc='best')\n",
        "plt.show()"
      ],
      "metadata": {
        "colab": {
          "base_uri": "https://localhost:8080/",
          "height": 279
        },
        "id": "_xgSoO9WqnLf",
        "outputId": "0595299b-e119-40eb-bea5-69df277466e7"
      },
      "execution_count": null,
      "outputs": [
        {
          "output_type": "display_data",
          "data": {
            "text/plain": [
              "<Figure size 576x288 with 1 Axes>"
            ],
            "image/png": "[encoded data removed]"
          },
          "metadata": {
            "needs_background": "light"
          }
        }
      ]
    },
    {
      "cell_type": "code",
      "source": [
        "# Initialize PCA\n",
        "pca = PCA(n_components=6)\n",
        "\n",
        "# Fit and transform the training data.\n",
        "X_train_pca = pca.fit_transform(X_train_std)\n",
        "\n",
        "# Transform the testing data\n",
        "X_test_pca = pca.transform(X_test_std)"
      ],
      "metadata": {
        "id": "GApnJ1MVqpkF"
      },
      "execution_count": null,
      "outputs": []
    },
    {
      "cell_type": "markdown",
      "source": [
        "### Define the model"
      ],
      "metadata": {
        "id": "omQq8rFrrjN6"
      }
    },
    {
      "cell_type": "code",
      "source": [
        "knn_model_pca = KNeighborsClassifier()\n",
        "knn_model_pca = knn_model_pca.fit(X_train_pca, y_train)"
      ],
      "metadata": {
        "id": "sdgbz43zrZOI"
      },
      "execution_count": null,
      "outputs": []
    },
    {
      "cell_type": "markdown",
      "source": [
        "### Evaluate model performance"
      ],
      "metadata": {
        "id": "IJv-9U2VsJb4"
      }
    },
    {
      "cell_type": "code",
      "source": [
        "prediction = knn_model_pca.predict(X_test_pca)\n",
        "acc_with_pca = accuracy_score(y_test, prediction)\n",
        "print(\"Model Accuracy with PCA: {}\".format(acc_with_pca))"
      ],
      "metadata": {
        "colab": {
          "base_uri": "https://localhost:8080/"
        },
        "id": "ramTMuTOrpNn",
        "outputId": "2739274a-a33b-41d6-ec99-d2422df53ece"
      },
      "execution_count": null,
      "outputs": [
        {
          "output_type": "stream",
          "name": "stdout",
          "text": [
            "Model Accuracy with PCA: 0.9824561403508771\n"
          ]
        }
      ]
    },
    {
      "cell_type": "markdown",
      "source": [
        "With PCA we can achieve more than **98% accuracy** with only 6 features."
      ],
      "metadata": {
        "id": "jRV4EW3I5YVK"
      }
    }
  ]
}
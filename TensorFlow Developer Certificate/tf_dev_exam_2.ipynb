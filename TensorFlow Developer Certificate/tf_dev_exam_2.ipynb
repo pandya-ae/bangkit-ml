{
  "nbformat": 4,
  "nbformat_minor": 0,
  "metadata": {
    "colab": {
      "name": "tf-dev-exam-2.ipynb",
      "provenance": []
    },
    "kernelspec": {
      "name": "python3",
      "display_name": "Python 3"
    },
    "language_info": {
      "name": "python"
    },
    "accelerator": "GPU",
    "gpuClass": "standard"
  },
  "cells": [
    {
      "cell_type": "code",
      "execution_count": 2,
      "metadata": {
        "colab": {
          "base_uri": "https://localhost:8080/"
        },
        "id": "_vmBIRwCJxwM",
        "outputId": "043d1443-c2bb-4269-cb58-32ee7667387a"
      },
      "outputs": [
        {
          "output_type": "stream",
          "name": "stdout",
          "text": [
            "Downloading data from https://storage.googleapis.com/tensorflow/tf-keras-datasets/train-labels-idx1-ubyte.gz\n",
            "32768/29515 [=================================] - 0s 0us/step\n",
            "40960/29515 [=========================================] - 0s 0us/step\n",
            "Downloading data from https://storage.googleapis.com/tensorflow/tf-keras-datasets/train-images-idx3-ubyte.gz\n",
            "26427392/26421880 [==============================] - 0s 0us/step\n",
            "26435584/26421880 [==============================] - 0s 0us/step\n",
            "Downloading data from https://storage.googleapis.com/tensorflow/tf-keras-datasets/t10k-labels-idx1-ubyte.gz\n",
            "16384/5148 [===============================================================================================] - 0s 0us/step\n",
            "Downloading data from https://storage.googleapis.com/tensorflow/tf-keras-datasets/t10k-images-idx3-ubyte.gz\n",
            "4423680/4422102 [==============================] - 0s 0us/step\n",
            "4431872/4422102 [==============================] - 0s 0us/step\n",
            "Epoch 1/100\n",
            "   1/1875 [..............................] - ETA: 5:58:44 - loss: 14.8888 - accuracy: 0.1875"
          ]
        },
        {
          "output_type": "stream",
          "name": "stderr",
          "text": [
            "WARNING:tensorflow:Callback method `on_train_batch_end` is slow compared to the batch time (batch time: 0.0034s vs `on_train_batch_end` time: 0.0034s). Check your callbacks.\n"
          ]
        },
        {
          "output_type": "stream",
          "name": "stdout",
          "text": [
            "1875/1875 [==============================] - 23s 6ms/step - loss: 0.5590 - accuracy: 0.8503 - val_loss: 0.3387 - val_accuracy: 0.8765\n",
            "Epoch 2/100\n",
            "1875/1875 [==============================] - 11s 6ms/step - loss: 0.2789 - accuracy: 0.8966 - val_loss: 0.2820 - val_accuracy: 0.9004\n",
            "Epoch 3/100\n",
            "1875/1875 [==============================] - 12s 6ms/step - loss: 0.2386 - accuracy: 0.9110 - val_loss: 0.2887 - val_accuracy: 0.9008\n",
            "Epoch 4/100\n",
            "1875/1875 [==============================] - 11s 6ms/step - loss: 0.2078 - accuracy: 0.9222 - val_loss: 0.2816 - val_accuracy: 0.9026\n",
            "Epoch 5/100\n",
            "1875/1875 [==============================] - 12s 6ms/step - loss: 0.1831 - accuracy: 0.9312 - val_loss: 0.2783 - val_accuracy: 0.9063\n",
            "Epoch 6/100\n",
            "1875/1875 [==============================] - 12s 6ms/step - loss: 0.1598 - accuracy: 0.9408 - val_loss: 0.2893 - val_accuracy: 0.9035\n",
            "Epoch 7/100\n",
            "1875/1875 [==============================] - 12s 6ms/step - loss: 0.1402 - accuracy: 0.9480 - val_loss: 0.3079 - val_accuracy: 0.9084\n",
            "Epoch 8/100\n",
            "1868/1875 [============================>.] - ETA: 0s - loss: 0.1256 - accuracy: 0.9548\n",
            "Desired accuracy is achieved.\n",
            "1875/1875 [==============================] - 11s 6ms/step - loss: 0.1255 - accuracy: 0.9549 - val_loss: 0.3101 - val_accuracy: 0.9118\n"
          ]
        }
      ],
      "source": [
        "# ======================================================================\n",
        "# There are 5 questions in this exam with increasing difficulty from 1-5.\n",
        "# Please note that the weight of the grade for the question is relative\n",
        "# to its difficulty. So your Category 1 question will score significantly\n",
        "# less than your Category 5 question.\n",
        "#\n",
        "# Don't use lambda layers in your model.\n",
        "# You do not need them to solve the question.\n",
        "# Lambda layers are not supported by the grading infrastructure.\n",
        "#\n",
        "# You must use the Submit and Test button to submit your model\n",
        "# at least once in this category before you finally submit your exam,\n",
        "# otherwise you will score zero for this category.\n",
        "# ======================================================================\n",
        "#\n",
        "# Basic Datasets Question\n",
        "#\n",
        "# Create a classifier for the Fashion MNIST dataset\n",
        "# Note that the test will expect it to classify 10 classes and that the\n",
        "# input shape should be the native size of the Fashion MNIST dataset which is\n",
        "# 28x28 monochrome. Do not resize the data. Your input layer should accept\n",
        "# (28,28) as the input shape only. If you amend this, the tests will fail.\n",
        "#\n",
        "import tensorflow as tf\n",
        "import numpy as np\n",
        "\n",
        "class myCallback(tf.keras.callbacks.Callback):\n",
        "  def on_epoch_end(self, epoch, logs = {}):\n",
        "    if(logs.get('accuracy') > 0.95 and logs.get('val_accuracy') > 0.9):\n",
        "      print(\"\\nDesired accuracy is achieved.\")\n",
        "      self.model.stop_training = True\n",
        "\n",
        "def solution_model():\n",
        "    fashion_mnist = tf.keras.datasets.fashion_mnist\n",
        "\n",
        "    # YOUR CODE HERE\n",
        "    (x_train, y_train), (x_test, y_test) = fashion_mnist.load_data()\n",
        "    y_train = tf.keras.utils.to_categorical(y_train)\n",
        "    y_test = tf.keras.utils.to_categorical(y_test)\n",
        "   \n",
        "    # DEFINE YOUR MODEL HERE\n",
        "    # End with 10 Neuron Dense, activated by softmax\n",
        "    model = tf.keras.models.Sequential([\n",
        "        tf.keras.layers.Conv2D(32, (3,3), activation = 'relu', input_shape = (28,28,1)),\n",
        "        tf.keras.layers.Conv2D(64, (3,3), activation = 'relu'),\n",
        "        tf.keras.layers.Conv2D(128, (3,3), activation = 'relu'),\n",
        "        tf.keras.layers.MaxPooling2D(2,2),\n",
        "        tf.keras.layers.Dropout(0.2),\n",
        "        tf.keras.layers.Flatten(),\n",
        "        tf.keras.layers.Dense(128, activation = 'relu'),\n",
        "        tf.keras.layers.Dense(10, activation = 'softmax')])\n",
        "\n",
        "    # COMPILE MODEL HERE\n",
        "    callback = myCallback()\n",
        "\n",
        "    model.compile(\n",
        "        optimizer = 'adam',\n",
        "        loss = 'categorical_crossentropy',\n",
        "        metrics = ['accuracy'])\n",
        "\n",
        "    # TRAIN YOUR MODEL HERE\n",
        "    model.fit(\n",
        "        x_train,\n",
        "        y_train,\n",
        "        validation_data = (\n",
        "            x_test,\n",
        "            y_test),\n",
        "        epochs = 100,\n",
        "        callbacks = callback)\n",
        "\n",
        "    return model\n",
        "\n",
        "# Note that you'll need to save your model as a .h5 like this.\n",
        "# When you press the Submit and Test button, your saved .h5 model will\n",
        "# be sent to the testing infrastructure for scoring\n",
        "# and the score will be returned to you.\n",
        "if __name__ == '__main__':\n",
        "    model = solution_model()\n",
        "    model.save(\"mymodel.h5\")"
      ]
    }
  ]
}
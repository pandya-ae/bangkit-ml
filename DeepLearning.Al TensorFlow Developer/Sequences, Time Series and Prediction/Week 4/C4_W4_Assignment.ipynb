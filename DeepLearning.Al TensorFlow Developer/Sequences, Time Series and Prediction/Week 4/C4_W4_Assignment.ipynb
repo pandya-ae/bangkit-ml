{
  "nbformat": 4,
  "nbformat_minor": 0,
  "metadata": {
    "accelerator": "GPU",
    "colab": {
      "name": "C4_W4_Assignment.ipynb",
      "provenance": [],
      "collapsed_sections": []
    },
    "kernelspec": {
      "display_name": "Python 3",
      "language": "python",
      "name": "python3"
    },
    "language_info": {
      "codemirror_mode": {
        "name": "ipython",
        "version": 3
      },
      "file_extension": ".py",
      "mimetype": "text/x-python",
      "name": "python",
      "nbconvert_exporter": "python",
      "pygments_lexer": "ipython3",
      "version": "3.8.5"
    }
  },
  "cells": [
    {
      "cell_type": "code",
      "metadata": {
        "id": "zX4Kg8DUTKWO",
        "cellView": "form"
      },
      "source": [
        "#@title Licensed under the Apache License, Version 2.0 (the \"License\");\n",
        "# you may not use this file except in compliance with the License.\n",
        "# You may obtain a copy of the License at\n",
        "#\n",
        "# https://www.apache.org/licenses/LICENSE-2.0\n",
        "#\n",
        "# Unless required by applicable law or agreed to in writing, software\n",
        "# distributed under the License is distributed on an \"AS IS\" BASIS,\n",
        "# WITHOUT WARRANTIES OR CONDITIONS OF ANY KIND, either express or implied.\n",
        "# See the License for the specific language governing permissions and\n",
        "# limitations under the License."
      ],
      "execution_count": 1,
      "outputs": []
    },
    {
      "cell_type": "markdown",
      "metadata": {
        "id": "1m0njwZtsvy_"
      },
      "source": [
        "**Note:** This notebook can run using TensorFlow 2.5.0"
      ]
    },
    {
      "cell_type": "code",
      "metadata": {
        "id": "D5DDeGwLsvzA"
      },
      "source": [
        "#!pip install tensorflow==2.5.0"
      ],
      "execution_count": 2,
      "outputs": []
    },
    {
      "cell_type": "code",
      "metadata": {
        "id": "56XEQOGknrAk",
        "colab": {
          "base_uri": "https://localhost:8080/"
        },
        "outputId": "b3b2c7ef-7157-498e-d139-0ce94a184255"
      },
      "source": [
        "import tensorflow as tf\n",
        "print(tf.__version__)"
      ],
      "execution_count": 3,
      "outputs": [
        {
          "output_type": "stream",
          "name": "stdout",
          "text": [
            "2.8.0\n"
          ]
        }
      ]
    },
    {
      "cell_type": "code",
      "metadata": {
        "id": "sLl52leVp5wU"
      },
      "source": [
        "import numpy as np\n",
        "import matplotlib.pyplot as plt\n",
        "def plot_series(time, series, format=\"-\", start=0, end=None):\n",
        "    plt.plot(time[start:end], series[start:end], format)\n",
        "    plt.xlabel(\"Time\")\n",
        "    plt.ylabel(\"Value\")\n",
        "    plt.grid(True)"
      ],
      "execution_count": 4,
      "outputs": []
    },
    {
      "cell_type": "code",
      "metadata": {
        "id": "tP7oqUdkk0gY",
        "colab": {
          "base_uri": "https://localhost:8080/"
        },
        "outputId": "a3bceb79-c397-4e1e-d358-c2f3eac3939d"
      },
      "source": [
        "!wget --no-check-certificate \\\n",
        "    https://raw.githubusercontent.com/jbrownlee/Datasets/master/daily-min-temperatures.csv \\\n",
        "    -O /tmp/daily-min-temperatures.csv"
      ],
      "execution_count": 5,
      "outputs": [
        {
          "output_type": "stream",
          "name": "stdout",
          "text": [
            "--2022-04-17 13:30:03--  https://raw.githubusercontent.com/jbrownlee/Datasets/master/daily-min-temperatures.csv\n",
            "Resolving raw.githubusercontent.com (raw.githubusercontent.com)... 185.199.108.133, 185.199.110.133, 185.199.111.133, ...\n",
            "Connecting to raw.githubusercontent.com (raw.githubusercontent.com)|185.199.108.133|:443... connected.\n",
            "HTTP request sent, awaiting response... 200 OK\n",
            "Length: 67921 (66K) [text/plain]\n",
            "Saving to: ‘/tmp/daily-min-temperatures.csv’\n",
            "\n",
            "/tmp/daily-min-temp 100%[===================>]  66.33K  --.-KB/s    in 0.01s   \n",
            "\n",
            "2022-04-17 13:30:04 (4.47 MB/s) - ‘/tmp/daily-min-temperatures.csv’ saved [67921/67921]\n",
            "\n"
          ]
        }
      ]
    },
    {
      "cell_type": "code",
      "metadata": {
        "id": "NcG9r1eClbTh",
        "colab": {
          "base_uri": "https://localhost:8080/",
          "height": 388
        },
        "outputId": "d096eda4-53fc-4d05-fc22-ce7daf3b99b4"
      },
      "source": [
        "import csv\n",
        "time_step = []\n",
        "temps = []\n",
        "\n",
        "with open('/tmp/daily-min-temperatures.csv') as csvfile:\n",
        "  reader = csv.reader(csvfile, delimiter = ',')\n",
        "  next(reader)\n",
        "  step = 0\n",
        "  for row in reader:\n",
        "    temps.append(float(row[1]))\n",
        "    time_step.append(step)\n",
        "    step += 1\n",
        "# YOUR CODE HERE. READ TEMPERATURES INTO TEMPS\n",
        "# HAVE TIME STEPS BE A SIMPLE ARRAY OF 1, 2, 3, 4 etc\n",
        "\n",
        "series = np.array(temps)\n",
        "time = np.array(time_step)\n",
        "plt.figure(figsize=(10, 6))\n",
        "plot_series(time, series)"
      ],
      "execution_count": 6,
      "outputs": [
        {
          "output_type": "display_data",
          "data": {
            "text/plain": [
              "<Figure size 720x432 with 1 Axes>"
            ],
            "image/png": "[encoded data removed]"
          },
          "metadata": {
            "needs_background": "light"
          }
        }
      ]
    },
    {
      "cell_type": "code",
      "metadata": {
        "id": "L92YRw_IpCFG"
      },
      "source": [
        "split_time = 2500\n",
        "time_train = time[:split_time]\n",
        "x_train = series[:split_time]\n",
        "time_valid = time[split_time:]\n",
        "x_valid = series[split_time:]\n",
        "\n",
        "window_size = 30\n",
        "batch_size = 32\n",
        "shuffle_buffer_size = 1000\n"
      ],
      "execution_count": 7,
      "outputs": []
    },
    {
      "cell_type": "code",
      "metadata": {
        "id": "lJwUUZscnG38"
      },
      "source": [
        "def windowed_dataset(series, window_size, batch_size, shuffle_buffer):\n",
        "    series = tf.expand_dims(series, axis=-1)\n",
        "    ds = tf.data.Dataset.from_tensor_slices(series)\n",
        "    ds = ds.window(window_size + 1, shift=1, drop_remainder=True)\n",
        "    ds = ds.flat_map(lambda w: w.batch(window_size + 1))\n",
        "    ds = ds.shuffle(shuffle_buffer)\n",
        "    ds = ds.map(lambda w: (w[:-1], w[1:]))\n",
        "    return ds.batch(batch_size).prefetch(1)"
      ],
      "execution_count": 8,
      "outputs": []
    },
    {
      "cell_type": "code",
      "metadata": {
        "id": "4XwGrf-A_wF0"
      },
      "source": [
        "def model_forecast(model, series, window_size):\n",
        "    ds = tf.data.Dataset.from_tensor_slices(series)\n",
        "    ds = ds.window(window_size, shift=1, drop_remainder=True)\n",
        "    ds = ds.flat_map(lambda w: w.batch(window_size))\n",
        "    ds = ds.batch(32).prefetch(1)\n",
        "    forecast = model.predict(ds)\n",
        "    return forecast"
      ],
      "execution_count": 9,
      "outputs": []
    },
    {
      "cell_type": "code",
      "metadata": {
        "id": "AclfYY3Mn6Ph",
        "colab": {
          "base_uri": "https://localhost:8080/"
        },
        "outputId": "6c170b64-8d86-43c9-b50b-8743e109f9fa"
      },
      "source": [
        "tf.keras.backend.clear_session()\n",
        "tf.random.set_seed(51)\n",
        "np.random.seed(51)\n",
        "window_size = 64\n",
        "batch_size = 256\n",
        "train_set = windowed_dataset(x_train, window_size, batch_size, shuffle_buffer_size)\n",
        "print(train_set)\n",
        "print(x_train.shape)\n",
        "\n",
        "model = tf.keras.models.Sequential([\n",
        " tf.keras.layers.Conv1D(filters=32, \n",
        "                        kernel_size=5,\n",
        "                        strides=1, \n",
        "                        padding=\"causal\",\n",
        "                        activation=\"relu\",\n",
        "                        input_shape=[None, 1]),\n",
        "  tf.keras.layers.LSTM(64, return_sequences=True),\n",
        "  tf.keras.layers.LSTM(64, return_sequences=True),\n",
        "  tf.keras.layers.Dense(30, activation=\"relu\"),\n",
        "  tf.keras.layers.Dense(10, activation=\"relu\"),\n",
        "  tf.keras.layers.Dense(1),\n",
        "  tf.keras.layers.Lambda(lambda x: x * 400)\n",
        "])\n",
        "\n",
        "lr_schedule = tf.keras.callbacks.LearningRateScheduler(\n",
        "    lambda epoch: 1e-8 * 10**(epoch / 20))\n",
        "optimizer = tf.keras.optimizers.SGD(learning_rate=1e-8, momentum=0.9)\n",
        "model.compile(loss=tf.keras.losses.Huber(),\n",
        "              optimizer=optimizer,\n",
        "              metrics=[\"mae\"])\n",
        "history = model.fit(train_set, epochs=100, callbacks=[lr_schedule])\n"
      ],
      "execution_count": 10,
      "outputs": [
        {
          "output_type": "stream",
          "name": "stdout",
          "text": [
            "<PrefetchDataset element_spec=(TensorSpec(shape=(None, None, 1), dtype=tf.float64, name=None), TensorSpec(shape=(None, None, 1), dtype=tf.float64, name=None))>\n",
            "(2500,)\n",
            "Epoch 1/100\n",
            "10/10 [==============================] - 14s 92ms/step - loss: 31.1571 - mae: 31.6550 - lr: 1.0000e-08\n",
            "Epoch 2/100\n",
            "10/10 [==============================] - 1s 51ms/step - loss: 30.5778 - mae: 31.0756 - lr: 1.1220e-08\n",
            "Epoch 3/100\n",
            "10/10 [==============================] - 1s 49ms/step - loss: 29.6825 - mae: 30.1801 - lr: 1.2589e-08\n",
            "Epoch 4/100\n",
            "10/10 [==============================] - 1s 53ms/step - loss: 28.5613 - mae: 29.0586 - lr: 1.4125e-08\n",
            "Epoch 5/100\n",
            "10/10 [==============================] - 1s 51ms/step - loss: 27.1974 - mae: 27.6945 - lr: 1.5849e-08\n",
            "Epoch 6/100\n",
            "10/10 [==============================] - 1s 56ms/step - loss: 25.5017 - mae: 25.9986 - lr: 1.7783e-08\n",
            "Epoch 7/100\n",
            "10/10 [==============================] - 1s 51ms/step - loss: 23.3464 - mae: 23.8429 - lr: 1.9953e-08\n",
            "Epoch 8/100\n",
            "10/10 [==============================] - 1s 55ms/step - loss: 20.6147 - mae: 21.1108 - lr: 2.2387e-08\n",
            "Epoch 9/100\n",
            "10/10 [==============================] - 1s 52ms/step - loss: 17.3142 - mae: 17.8091 - lr: 2.5119e-08\n",
            "Epoch 10/100\n",
            "10/10 [==============================] - 1s 51ms/step - loss: 13.6448 - mae: 14.1371 - lr: 2.8184e-08\n",
            "Epoch 11/100\n",
            "10/10 [==============================] - 1s 53ms/step - loss: 10.1272 - mae: 10.6152 - lr: 3.1623e-08\n",
            "Epoch 12/100\n",
            "10/10 [==============================] - 1s 52ms/step - loss: 7.6174 - mae: 8.1025 - lr: 3.5481e-08\n",
            "Epoch 13/100\n",
            "10/10 [==============================] - 1s 53ms/step - loss: 6.2869 - mae: 6.7711 - lr: 3.9811e-08\n",
            "Epoch 14/100\n",
            "10/10 [==============================] - 1s 54ms/step - loss: 5.7015 - mae: 6.1856 - lr: 4.4668e-08\n",
            "Epoch 15/100\n",
            "10/10 [==============================] - 1s 52ms/step - loss: 5.3344 - mae: 5.8166 - lr: 5.0119e-08\n",
            "Epoch 16/100\n",
            "10/10 [==============================] - 1s 51ms/step - loss: 4.9409 - mae: 5.4206 - lr: 5.6234e-08\n",
            "Epoch 17/100\n",
            "10/10 [==============================] - 1s 52ms/step - loss: 4.5578 - mae: 5.0338 - lr: 6.3096e-08\n",
            "Epoch 18/100\n",
            "10/10 [==============================] - 1s 52ms/step - loss: 4.2340 - mae: 4.7085 - lr: 7.0795e-08\n",
            "Epoch 19/100\n",
            "10/10 [==============================] - 1s 52ms/step - loss: 3.9611 - mae: 4.4360 - lr: 7.9433e-08\n",
            "Epoch 20/100\n",
            "10/10 [==============================] - 1s 54ms/step - loss: 3.7448 - mae: 4.2177 - lr: 8.9125e-08\n",
            "Epoch 21/100\n",
            "10/10 [==============================] - 1s 52ms/step - loss: 3.5855 - mae: 4.0566 - lr: 1.0000e-07\n",
            "Epoch 22/100\n",
            "10/10 [==============================] - 1s 53ms/step - loss: 3.4641 - mae: 3.9344 - lr: 1.1220e-07\n",
            "Epoch 23/100\n",
            "10/10 [==============================] - 1s 53ms/step - loss: 3.3711 - mae: 3.8414 - lr: 1.2589e-07\n",
            "Epoch 24/100\n",
            "10/10 [==============================] - 1s 52ms/step - loss: 3.2948 - mae: 3.7645 - lr: 1.4125e-07\n",
            "Epoch 25/100\n",
            "10/10 [==============================] - 1s 54ms/step - loss: 3.2288 - mae: 3.6978 - lr: 1.5849e-07\n",
            "Epoch 26/100\n",
            "10/10 [==============================] - 1s 54ms/step - loss: 3.1662 - mae: 3.6346 - lr: 1.7783e-07\n",
            "Epoch 27/100\n",
            "10/10 [==============================] - 1s 52ms/step - loss: 3.1014 - mae: 3.5693 - lr: 1.9953e-07\n",
            "Epoch 28/100\n",
            "10/10 [==============================] - 1s 51ms/step - loss: 3.0380 - mae: 3.5053 - lr: 2.2387e-07\n",
            "Epoch 29/100\n",
            "10/10 [==============================] - 1s 52ms/step - loss: 2.9716 - mae: 3.4379 - lr: 2.5119e-07\n",
            "Epoch 30/100\n",
            "10/10 [==============================] - 1s 51ms/step - loss: 2.9063 - mae: 3.3712 - lr: 2.8184e-07\n",
            "Epoch 31/100\n",
            "10/10 [==============================] - 1s 52ms/step - loss: 2.8452 - mae: 3.3098 - lr: 3.1623e-07\n",
            "Epoch 32/100\n",
            "10/10 [==============================] - 1s 53ms/step - loss: 2.7842 - mae: 3.2479 - lr: 3.5481e-07\n",
            "Epoch 33/100\n",
            "10/10 [==============================] - 1s 53ms/step - loss: 2.7256 - mae: 3.1891 - lr: 3.9811e-07\n",
            "Epoch 34/100\n",
            "10/10 [==============================] - 1s 52ms/step - loss: 2.6740 - mae: 3.1379 - lr: 4.4668e-07\n",
            "Epoch 35/100\n",
            "10/10 [==============================] - 1s 53ms/step - loss: 2.6212 - mae: 3.0848 - lr: 5.0119e-07\n",
            "Epoch 36/100\n",
            "10/10 [==============================] - 1s 54ms/step - loss: 2.5728 - mae: 3.0357 - lr: 5.6234e-07\n",
            "Epoch 37/100\n",
            "10/10 [==============================] - 1s 53ms/step - loss: 2.5254 - mae: 2.9877 - lr: 6.3096e-07\n",
            "Epoch 38/100\n",
            "10/10 [==============================] - 1s 51ms/step - loss: 2.4800 - mae: 2.9415 - lr: 7.0795e-07\n",
            "Epoch 39/100\n",
            "10/10 [==============================] - 1s 53ms/step - loss: 2.4355 - mae: 2.8968 - lr: 7.9433e-07\n",
            "Epoch 40/100\n",
            "10/10 [==============================] - 1s 52ms/step - loss: 2.3933 - mae: 2.8541 - lr: 8.9125e-07\n",
            "Epoch 41/100\n",
            "10/10 [==============================] - 1s 67ms/step - loss: 2.3523 - mae: 2.8124 - lr: 1.0000e-06\n",
            "Epoch 42/100\n",
            "10/10 [==============================] - 1s 53ms/step - loss: 2.3124 - mae: 2.7718 - lr: 1.1220e-06\n",
            "Epoch 43/100\n",
            "10/10 [==============================] - 1s 53ms/step - loss: 2.2730 - mae: 2.7315 - lr: 1.2589e-06\n",
            "Epoch 44/100\n",
            "10/10 [==============================] - 1s 53ms/step - loss: 2.2338 - mae: 2.6913 - lr: 1.4125e-06\n",
            "Epoch 45/100\n",
            "10/10 [==============================] - 1s 52ms/step - loss: 2.1954 - mae: 2.6523 - lr: 1.5849e-06\n",
            "Epoch 46/100\n",
            "10/10 [==============================] - 1s 52ms/step - loss: 2.1622 - mae: 2.6190 - lr: 1.7783e-06\n",
            "Epoch 47/100\n",
            "10/10 [==============================] - 1s 53ms/step - loss: 2.1313 - mae: 2.5877 - lr: 1.9953e-06\n",
            "Epoch 48/100\n",
            "10/10 [==============================] - 1s 51ms/step - loss: 2.1047 - mae: 2.5607 - lr: 2.2387e-06\n",
            "Epoch 49/100\n",
            "10/10 [==============================] - 1s 51ms/step - loss: 2.0740 - mae: 2.5300 - lr: 2.5119e-06\n",
            "Epoch 50/100\n",
            "10/10 [==============================] - 1s 53ms/step - loss: 2.0481 - mae: 2.5040 - lr: 2.8184e-06\n",
            "Epoch 51/100\n",
            "10/10 [==============================] - 1s 52ms/step - loss: 2.0263 - mae: 2.4818 - lr: 3.1623e-06\n",
            "Epoch 52/100\n",
            "10/10 [==============================] - 1s 52ms/step - loss: 2.0048 - mae: 2.4598 - lr: 3.5481e-06\n",
            "Epoch 53/100\n",
            "10/10 [==============================] - 1s 53ms/step - loss: 1.9897 - mae: 2.4444 - lr: 3.9811e-06\n",
            "Epoch 54/100\n",
            "10/10 [==============================] - 1s 52ms/step - loss: 1.9650 - mae: 2.4193 - lr: 4.4668e-06\n",
            "Epoch 55/100\n",
            "10/10 [==============================] - 1s 54ms/step - loss: 1.9469 - mae: 2.4009 - lr: 5.0119e-06\n",
            "Epoch 56/100\n",
            "10/10 [==============================] - 1s 53ms/step - loss: 1.9247 - mae: 2.3783 - lr: 5.6234e-06\n",
            "Epoch 57/100\n",
            "10/10 [==============================] - 1s 54ms/step - loss: 1.9089 - mae: 2.3620 - lr: 6.3096e-06\n",
            "Epoch 58/100\n",
            "10/10 [==============================] - 1s 52ms/step - loss: 1.8863 - mae: 2.3394 - lr: 7.0795e-06\n",
            "Epoch 59/100\n",
            "10/10 [==============================] - 1s 53ms/step - loss: 1.8593 - mae: 2.3119 - lr: 7.9433e-06\n",
            "Epoch 60/100\n",
            "10/10 [==============================] - 1s 52ms/step - loss: 2.1950 - mae: 2.6549 - lr: 8.9125e-06\n",
            "Epoch 61/100\n",
            "10/10 [==============================] - 1s 51ms/step - loss: 2.6849 - mae: 3.1558 - lr: 1.0000e-05\n",
            "Epoch 62/100\n",
            "10/10 [==============================] - 1s 51ms/step - loss: 3.0853 - mae: 3.5611 - lr: 1.1220e-05\n",
            "Epoch 63/100\n",
            "10/10 [==============================] - 1s 53ms/step - loss: 3.5160 - mae: 3.9953 - lr: 1.2589e-05\n",
            "Epoch 64/100\n",
            "10/10 [==============================] - 1s 52ms/step - loss: 3.6589 - mae: 4.1400 - lr: 1.4125e-05\n",
            "Epoch 65/100\n",
            "10/10 [==============================] - 1s 53ms/step - loss: 4.2072 - mae: 4.6938 - lr: 1.5849e-05\n",
            "Epoch 66/100\n",
            "10/10 [==============================] - 1s 52ms/step - loss: 4.3837 - mae: 4.8701 - lr: 1.7783e-05\n",
            "Epoch 67/100\n",
            "10/10 [==============================] - 1s 51ms/step - loss: 4.6310 - mae: 5.1188 - lr: 1.9953e-05\n",
            "Epoch 68/100\n",
            "10/10 [==============================] - 1s 53ms/step - loss: 4.7031 - mae: 5.1892 - lr: 2.2387e-05\n",
            "Epoch 69/100\n",
            "10/10 [==============================] - 1s 54ms/step - loss: 5.0121 - mae: 5.4999 - lr: 2.5119e-05\n",
            "Epoch 70/100\n",
            "10/10 [==============================] - 1s 53ms/step - loss: 5.2062 - mae: 5.6918 - lr: 2.8184e-05\n",
            "Epoch 71/100\n",
            "10/10 [==============================] - 1s 54ms/step - loss: 8.9246 - mae: 9.4067 - lr: 3.1623e-05\n",
            "Epoch 72/100\n",
            "10/10 [==============================] - 1s 54ms/step - loss: 10.0970 - mae: 10.5938 - lr: 3.5481e-05\n",
            "Epoch 73/100\n",
            "10/10 [==============================] - 1s 53ms/step - loss: 9.2528 - mae: 9.7450 - lr: 3.9811e-05\n",
            "Epoch 74/100\n",
            "10/10 [==============================] - 1s 53ms/step - loss: 6.2692 - mae: 6.7596 - lr: 4.4668e-05\n",
            "Epoch 75/100\n",
            "10/10 [==============================] - 1s 55ms/step - loss: 6.0134 - mae: 6.5069 - lr: 5.0119e-05\n",
            "Epoch 76/100\n",
            "10/10 [==============================] - 1s 53ms/step - loss: 3.4750 - mae: 3.9491 - lr: 5.6234e-05\n",
            "Epoch 77/100\n",
            "10/10 [==============================] - 1s 54ms/step - loss: 2.5965 - mae: 3.0605 - lr: 6.3096e-05\n",
            "Epoch 78/100\n",
            "10/10 [==============================] - 1s 64ms/step - loss: 2.3069 - mae: 2.7672 - lr: 7.0795e-05\n",
            "Epoch 79/100\n",
            "10/10 [==============================] - 2s 109ms/step - loss: 2.5306 - mae: 2.9955 - lr: 7.9433e-05\n",
            "Epoch 80/100\n",
            "10/10 [==============================] - 1s 67ms/step - loss: 2.6898 - mae: 3.1540 - lr: 8.9125e-05\n",
            "Epoch 81/100\n",
            "10/10 [==============================] - 1s 67ms/step - loss: 3.4261 - mae: 3.9016 - lr: 1.0000e-04\n",
            "Epoch 82/100\n",
            "10/10 [==============================] - 2s 91ms/step - loss: 4.0403 - mae: 4.5201 - lr: 1.1220e-04\n",
            "Epoch 83/100\n",
            "10/10 [==============================] - 1s 52ms/step - loss: 4.2220 - mae: 4.7043 - lr: 1.2589e-04\n",
            "Epoch 84/100\n",
            "10/10 [==============================] - 1s 74ms/step - loss: 5.2981 - mae: 5.7859 - lr: 1.4125e-04\n",
            "Epoch 85/100\n",
            "10/10 [==============================] - 1s 70ms/step - loss: 5.5753 - mae: 6.0639 - lr: 1.5849e-04\n",
            "Epoch 86/100\n",
            "10/10 [==============================] - 1s 81ms/step - loss: 5.9629 - mae: 6.4497 - lr: 1.7783e-04\n",
            "Epoch 87/100\n",
            "10/10 [==============================] - 1s 92ms/step - loss: 7.2009 - mae: 7.6923 - lr: 1.9953e-04\n",
            "Epoch 88/100\n",
            "10/10 [==============================] - 1s 52ms/step - loss: 15.4610 - mae: 15.9546 - lr: 2.2387e-04\n",
            "Epoch 89/100\n",
            "10/10 [==============================] - 1s 77ms/step - loss: 19.7579 - mae: 20.2575 - lr: 2.5119e-04\n",
            "Epoch 90/100\n",
            "10/10 [==============================] - 2s 92ms/step - loss: 23.2600 - mae: 23.7588 - lr: 2.8184e-04\n",
            "Epoch 91/100\n",
            "10/10 [==============================] - 2s 98ms/step - loss: 26.2796 - mae: 26.7783 - lr: 3.1623e-04\n",
            "Epoch 92/100\n",
            "10/10 [==============================] - 2s 116ms/step - loss: 48.8918 - mae: 49.3891 - lr: 3.5481e-04\n",
            "Epoch 93/100\n",
            "10/10 [==============================] - 1s 96ms/step - loss: 31.7384 - mae: 32.2317 - lr: 3.9811e-04\n",
            "Epoch 94/100\n",
            "10/10 [==============================] - 1s 63ms/step - loss: 62.8176 - mae: 63.3157 - lr: 4.4668e-04\n",
            "Epoch 95/100\n",
            "10/10 [==============================] - 1s 88ms/step - loss: 82.7887 - mae: 83.2887 - lr: 5.0119e-04\n",
            "Epoch 96/100\n",
            "10/10 [==============================] - 1s 72ms/step - loss: 66.0641 - mae: 66.5607 - lr: 5.6234e-04\n",
            "Epoch 97/100\n",
            "10/10 [==============================] - 1s 91ms/step - loss: 126.1954 - mae: 126.6954 - lr: 6.3096e-04\n",
            "Epoch 98/100\n",
            "10/10 [==============================] - 1s 84ms/step - loss: 102.0491 - mae: 102.5491 - lr: 7.0795e-04\n",
            "Epoch 99/100\n",
            "10/10 [==============================] - 1s 76ms/step - loss: 72.3350 - mae: 72.8318 - lr: 7.9433e-04\n",
            "Epoch 100/100\n",
            "10/10 [==============================] - 1s 85ms/step - loss: 152.1735 - mae: 152.6735 - lr: 8.9125e-04\n"
          ]
        }
      ]
    },
    {
      "cell_type": "code",
      "metadata": {
        "id": "vVcKmg7Q_7rD",
        "colab": {
          "base_uri": "https://localhost:8080/",
          "height": 291
        },
        "outputId": "7aeb8f18-b0a7-4c39-d068-6a7b82dac43a"
      },
      "source": [
        "plt.semilogx(history.history[\"lr\"], history.history[\"loss\"])\n",
        "plt.axis([1e-8, 1e-4, 0, 60])"
      ],
      "execution_count": 11,
      "outputs": [
        {
          "output_type": "execute_result",
          "data": {
            "text/plain": [
              "(1e-08, 0.0001, 0.0, 60.0)"
            ]
          },
          "metadata": {},
          "execution_count": 11
        },
        {
          "output_type": "display_data",
          "data": {
            "text/plain": [
              "<Figure size 432x288 with 1 Axes>"
            ],
            "image/png": "[encoded data removed]"
          },
          "metadata": {
            "needs_background": "light"
          }
        }
      ]
    },
    {
      "cell_type": "code",
      "metadata": {
        "id": "QsksvkcXAAgq",
        "colab": {
          "base_uri": "https://localhost:8080/"
        },
        "outputId": "df02a482-9615-4b24-b707-7126a670b074"
      },
      "source": [
        "tf.keras.backend.clear_session()\n",
        "tf.random.set_seed(51)\n",
        "np.random.seed(51)\n",
        "train_set = windowed_dataset(x_train, window_size=60, batch_size=100, shuffle_buffer=shuffle_buffer_size)\n",
        "model = tf.keras.models.Sequential([\n",
        "  tf.keras.layers.Conv1D(filters=60, \n",
        "                         kernel_size=5,\n",
        "                         strides=1, \n",
        "                         padding=\"causal\",\n",
        "                         activation=\"relu\",\n",
        "                         input_shape=[None, 1]),\n",
        "  tf.keras.layers.LSTM(64, return_sequences=True),\n",
        "  tf.keras.layers.LSTM(64, return_sequences=True),\n",
        "  tf.keras.layers.Dense(30, activation=\"relu\"),\n",
        "  tf.keras.layers.Dense(10, activation=\"relu\"),\n",
        "  tf.keras.layers.Dense(1),\n",
        "  tf.keras.layers.Lambda(lambda x: x * 400)\n",
        "])\n",
        "\n",
        "\n",
        "optimizer = tf.keras.optimizers.SGD(learning_rate=1e-5, momentum=0.9)\n",
        "model.compile(loss=tf.keras.losses.Huber(),\n",
        "              optimizer=optimizer,\n",
        "              metrics=[\"mae\"])\n",
        "history = model.fit(train_set,epochs=150)\n",
        "                                    \n",
        "# EXPECTED OUTPUT SHOULD SEE AN MAE OF <2 WITHIN ABOUT 30 EPOCHS"
      ],
      "execution_count": 12,
      "outputs": [
        {
          "output_type": "stream",
          "name": "stdout",
          "text": [
            "Epoch 1/150\n",
            "25/25 [==============================] - 5s 38ms/step - loss: 8.7358 - mae: 9.2275\n",
            "Epoch 2/150\n",
            "25/25 [==============================] - 1s 36ms/step - loss: 2.7641 - mae: 3.2299\n",
            "Epoch 3/150\n",
            "25/25 [==============================] - 1s 36ms/step - loss: 1.9250 - mae: 2.3793\n",
            "Epoch 4/150\n",
            "25/25 [==============================] - 1s 35ms/step - loss: 1.8234 - mae: 2.2741\n",
            "Epoch 5/150\n",
            "25/25 [==============================] - 1s 37ms/step - loss: 1.7700 - mae: 2.2191\n",
            "Epoch 6/150\n",
            "25/25 [==============================] - 1s 36ms/step - loss: 1.7397 - mae: 2.1882\n",
            "Epoch 7/150\n",
            "25/25 [==============================] - 1s 36ms/step - loss: 1.7193 - mae: 2.1671\n",
            "Epoch 8/150\n",
            "25/25 [==============================] - 1s 36ms/step - loss: 1.6993 - mae: 2.1465\n",
            "Epoch 9/150\n",
            "25/25 [==============================] - 1s 36ms/step - loss: 1.6977 - mae: 2.1448\n",
            "Epoch 10/150\n",
            "25/25 [==============================] - 1s 51ms/step - loss: 1.6694 - mae: 2.1156\n",
            "Epoch 11/150\n",
            "25/25 [==============================] - 2s 55ms/step - loss: 1.6605 - mae: 2.1065\n",
            "Epoch 12/150\n",
            "25/25 [==============================] - 1s 36ms/step - loss: 1.6484 - mae: 2.0941\n",
            "Epoch 13/150\n",
            "25/25 [==============================] - 1s 36ms/step - loss: 1.6442 - mae: 2.0899\n",
            "Epoch 14/150\n",
            "25/25 [==============================] - 1s 36ms/step - loss: 1.6320 - mae: 2.0771\n",
            "Epoch 15/150\n",
            "25/25 [==============================] - 1s 36ms/step - loss: 1.6220 - mae: 2.0664\n",
            "Epoch 16/150\n",
            "25/25 [==============================] - 1s 36ms/step - loss: 1.6171 - mae: 2.0619\n",
            "Epoch 17/150\n",
            "25/25 [==============================] - 1s 36ms/step - loss: 1.6036 - mae: 2.0476\n",
            "Epoch 18/150\n",
            "25/25 [==============================] - 1s 36ms/step - loss: 1.6017 - mae: 2.0457\n",
            "Epoch 19/150\n",
            "25/25 [==============================] - 1s 36ms/step - loss: 1.5993 - mae: 2.0435\n",
            "Epoch 20/150\n",
            "25/25 [==============================] - 1s 35ms/step - loss: 1.6212 - mae: 2.0669\n",
            "Epoch 21/150\n",
            "25/25 [==============================] - 1s 36ms/step - loss: 1.5887 - mae: 2.0329\n",
            "Epoch 22/150\n",
            "25/25 [==============================] - 1s 36ms/step - loss: 1.6042 - mae: 2.0489\n",
            "Epoch 23/150\n",
            "25/25 [==============================] - 1s 36ms/step - loss: 1.5764 - mae: 2.0198\n",
            "Epoch 24/150\n",
            "25/25 [==============================] - 1s 36ms/step - loss: 1.5684 - mae: 2.0114\n",
            "Epoch 25/150\n",
            "25/25 [==============================] - 1s 35ms/step - loss: 1.5704 - mae: 2.0137\n",
            "Epoch 26/150\n",
            "25/25 [==============================] - 1s 36ms/step - loss: 1.5686 - mae: 2.0120\n",
            "Epoch 27/150\n",
            "25/25 [==============================] - 1s 35ms/step - loss: 1.5579 - mae: 2.0005\n",
            "Epoch 28/150\n",
            "25/25 [==============================] - 1s 35ms/step - loss: 1.5550 - mae: 1.9977\n",
            "Epoch 29/150\n",
            "25/25 [==============================] - 1s 36ms/step - loss: 1.5502 - mae: 1.9923\n",
            "Epoch 30/150\n",
            "25/25 [==============================] - 1s 35ms/step - loss: 1.5487 - mae: 1.9907\n",
            "Epoch 31/150\n",
            "25/25 [==============================] - 1s 36ms/step - loss: 1.5457 - mae: 1.9883\n",
            "Epoch 32/150\n",
            "25/25 [==============================] - 1s 35ms/step - loss: 1.5429 - mae: 1.9846\n",
            "Epoch 33/150\n",
            "25/25 [==============================] - 2s 50ms/step - loss: 1.5403 - mae: 1.9824\n",
            "Epoch 34/150\n",
            "25/25 [==============================] - 1s 38ms/step - loss: 1.5401 - mae: 1.9820\n",
            "Epoch 35/150\n",
            "25/25 [==============================] - 1s 36ms/step - loss: 1.5439 - mae: 1.9864\n",
            "Epoch 36/150\n",
            "25/25 [==============================] - 1s 36ms/step - loss: 1.5307 - mae: 1.9721\n",
            "Epoch 37/150\n",
            "25/25 [==============================] - 1s 36ms/step - loss: 1.5368 - mae: 1.9789\n",
            "Epoch 38/150\n",
            "25/25 [==============================] - 1s 36ms/step - loss: 1.5288 - mae: 1.9703\n",
            "Epoch 39/150\n",
            "25/25 [==============================] - 1s 36ms/step - loss: 1.5336 - mae: 1.9756\n",
            "Epoch 40/150\n",
            "25/25 [==============================] - 1s 36ms/step - loss: 1.5229 - mae: 1.9640\n",
            "Epoch 41/150\n",
            "25/25 [==============================] - 1s 36ms/step - loss: 1.5256 - mae: 1.9676\n",
            "Epoch 42/150\n",
            "25/25 [==============================] - 1s 35ms/step - loss: 1.5233 - mae: 1.9646\n",
            "Epoch 43/150\n",
            "25/25 [==============================] - 1s 36ms/step - loss: 1.5294 - mae: 1.9712\n",
            "Epoch 44/150\n",
            "25/25 [==============================] - 1s 35ms/step - loss: 1.5207 - mae: 1.9621\n",
            "Epoch 45/150\n",
            "25/25 [==============================] - 1s 36ms/step - loss: 1.5134 - mae: 1.9542\n",
            "Epoch 46/150\n",
            "25/25 [==============================] - 1s 36ms/step - loss: 1.5143 - mae: 1.9549\n",
            "Epoch 47/150\n",
            "25/25 [==============================] - 1s 36ms/step - loss: 1.5092 - mae: 1.9495\n",
            "Epoch 48/150\n",
            "25/25 [==============================] - 1s 35ms/step - loss: 1.5100 - mae: 1.9507\n",
            "Epoch 49/150\n",
            "25/25 [==============================] - 1s 36ms/step - loss: 1.5167 - mae: 1.9584\n",
            "Epoch 50/150\n",
            "25/25 [==============================] - 1s 36ms/step - loss: 1.5083 - mae: 1.9488\n",
            "Epoch 51/150\n",
            "25/25 [==============================] - 1s 36ms/step - loss: 1.5088 - mae: 1.9498\n",
            "Epoch 52/150\n",
            "25/25 [==============================] - 1s 36ms/step - loss: 1.5053 - mae: 1.9458\n",
            "Epoch 53/150\n",
            "25/25 [==============================] - 1s 36ms/step - loss: 1.5122 - mae: 1.9536\n",
            "Epoch 54/150\n",
            "25/25 [==============================] - 1s 35ms/step - loss: 1.5031 - mae: 1.9432\n",
            "Epoch 55/150\n",
            "25/25 [==============================] - 1s 35ms/step - loss: 1.5025 - mae: 1.9426\n",
            "Epoch 56/150\n",
            "25/25 [==============================] - 1s 35ms/step - loss: 1.5008 - mae: 1.9415\n",
            "Epoch 57/150\n",
            "25/25 [==============================] - 1s 36ms/step - loss: 1.5041 - mae: 1.9449\n",
            "Epoch 58/150\n",
            "25/25 [==============================] - 1s 35ms/step - loss: 1.4996 - mae: 1.9400\n",
            "Epoch 59/150\n",
            "25/25 [==============================] - 1s 36ms/step - loss: 1.4955 - mae: 1.9354\n",
            "Epoch 60/150\n",
            "25/25 [==============================] - 1s 36ms/step - loss: 1.4952 - mae: 1.9352\n",
            "Epoch 61/150\n",
            "25/25 [==============================] - 1s 35ms/step - loss: 1.5022 - mae: 1.9428\n",
            "Epoch 62/150\n",
            "25/25 [==============================] - 1s 35ms/step - loss: 1.4992 - mae: 1.9394\n",
            "Epoch 63/150\n",
            "25/25 [==============================] - 1s 35ms/step - loss: 1.5012 - mae: 1.9416\n",
            "Epoch 64/150\n",
            "25/25 [==============================] - 1s 36ms/step - loss: 1.4923 - mae: 1.9322\n",
            "Epoch 65/150\n",
            "25/25 [==============================] - 1s 36ms/step - loss: 1.5196 - mae: 1.9623\n",
            "Epoch 66/150\n",
            "25/25 [==============================] - 1s 36ms/step - loss: 1.4966 - mae: 1.9367\n",
            "Epoch 67/150\n",
            "25/25 [==============================] - 1s 36ms/step - loss: 1.5006 - mae: 1.9417\n",
            "Epoch 68/150\n",
            "25/25 [==============================] - 1s 36ms/step - loss: 1.4940 - mae: 1.9339\n",
            "Epoch 69/150\n",
            "25/25 [==============================] - 1s 35ms/step - loss: 1.4869 - mae: 1.9262\n",
            "Epoch 70/150\n",
            "25/25 [==============================] - 1s 36ms/step - loss: 1.4895 - mae: 1.9295\n",
            "Epoch 71/150\n",
            "25/25 [==============================] - 1s 37ms/step - loss: 1.4858 - mae: 1.9251\n",
            "Epoch 72/150\n",
            "25/25 [==============================] - 1s 36ms/step - loss: 1.4853 - mae: 1.9247\n",
            "Epoch 73/150\n",
            "25/25 [==============================] - 1s 36ms/step - loss: 1.4869 - mae: 1.9262\n",
            "Epoch 74/150\n",
            "25/25 [==============================] - 1s 36ms/step - loss: 1.4973 - mae: 1.9379\n",
            "Epoch 75/150\n",
            "25/25 [==============================] - 1s 36ms/step - loss: 1.4941 - mae: 1.9345\n",
            "Epoch 76/150\n",
            "25/25 [==============================] - 1s 35ms/step - loss: 1.4853 - mae: 1.9244\n",
            "Epoch 77/150\n",
            "25/25 [==============================] - 1s 36ms/step - loss: 1.4860 - mae: 1.9256\n",
            "Epoch 78/150\n",
            "25/25 [==============================] - 1s 36ms/step - loss: 1.4842 - mae: 1.9234\n",
            "Epoch 79/150\n",
            "25/25 [==============================] - 1s 36ms/step - loss: 1.4807 - mae: 1.9197\n",
            "Epoch 80/150\n",
            "25/25 [==============================] - 1s 37ms/step - loss: 1.4898 - mae: 1.9300\n",
            "Epoch 81/150\n",
            "25/25 [==============================] - 1s 37ms/step - loss: 1.4900 - mae: 1.9302\n",
            "Epoch 82/150\n",
            "25/25 [==============================] - 1s 35ms/step - loss: 1.4790 - mae: 1.9177\n",
            "Epoch 83/150\n",
            "25/25 [==============================] - 1s 36ms/step - loss: 1.4814 - mae: 1.9203\n",
            "Epoch 84/150\n",
            "25/25 [==============================] - 2s 57ms/step - loss: 1.4784 - mae: 1.9172\n",
            "Epoch 85/150\n",
            "25/25 [==============================] - 1s 36ms/step - loss: 1.4847 - mae: 1.9243\n",
            "Epoch 86/150\n",
            "25/25 [==============================] - 1s 35ms/step - loss: 1.4792 - mae: 1.9185\n",
            "Epoch 87/150\n",
            "25/25 [==============================] - 1s 36ms/step - loss: 1.4787 - mae: 1.9180\n",
            "Epoch 88/150\n",
            "25/25 [==============================] - 1s 36ms/step - loss: 1.4861 - mae: 1.9259\n",
            "Epoch 89/150\n",
            "25/25 [==============================] - 1s 36ms/step - loss: 1.4786 - mae: 1.9174\n",
            "Epoch 90/150\n",
            "25/25 [==============================] - 1s 36ms/step - loss: 1.4775 - mae: 1.9166\n",
            "Epoch 91/150\n",
            "25/25 [==============================] - 1s 36ms/step - loss: 1.4737 - mae: 1.9122\n",
            "Epoch 92/150\n",
            "25/25 [==============================] - 1s 35ms/step - loss: 1.4794 - mae: 1.9185\n",
            "Epoch 93/150\n",
            "25/25 [==============================] - 1s 35ms/step - loss: 1.4787 - mae: 1.9179\n",
            "Epoch 94/150\n",
            "25/25 [==============================] - 1s 36ms/step - loss: 1.4780 - mae: 1.9178\n",
            "Epoch 95/150\n",
            "25/25 [==============================] - 1s 37ms/step - loss: 1.4807 - mae: 1.9203\n",
            "Epoch 96/150\n",
            "25/25 [==============================] - 1s 36ms/step - loss: 1.4908 - mae: 1.9317\n",
            "Epoch 97/150\n",
            "25/25 [==============================] - 1s 36ms/step - loss: 1.4728 - mae: 1.9114\n",
            "Epoch 98/150\n",
            "25/25 [==============================] - 1s 37ms/step - loss: 1.4765 - mae: 1.9157\n",
            "Epoch 99/150\n",
            "25/25 [==============================] - 1s 36ms/step - loss: 1.4850 - mae: 1.9248\n",
            "Epoch 100/150\n",
            "25/25 [==============================] - 1s 36ms/step - loss: 1.4752 - mae: 1.9145\n",
            "Epoch 101/150\n",
            "25/25 [==============================] - 1s 36ms/step - loss: 1.4768 - mae: 1.9162\n",
            "Epoch 102/150\n",
            "25/25 [==============================] - 1s 36ms/step - loss: 1.4733 - mae: 1.9124\n",
            "Epoch 103/150\n",
            "25/25 [==============================] - 1s 36ms/step - loss: 1.4698 - mae: 1.9080\n",
            "Epoch 104/150\n",
            "25/25 [==============================] - 1s 36ms/step - loss: 1.4768 - mae: 1.9162\n",
            "Epoch 105/150\n",
            "25/25 [==============================] - 1s 37ms/step - loss: 1.4710 - mae: 1.9096\n",
            "Epoch 106/150\n",
            "25/25 [==============================] - 1s 36ms/step - loss: 1.4745 - mae: 1.9136\n",
            "Epoch 107/150\n",
            "25/25 [==============================] - 1s 36ms/step - loss: 1.4687 - mae: 1.9073\n",
            "Epoch 108/150\n",
            "25/25 [==============================] - 1s 36ms/step - loss: 1.4713 - mae: 1.9105\n",
            "Epoch 109/150\n",
            "25/25 [==============================] - 1s 36ms/step - loss: 1.4795 - mae: 1.9197\n",
            "Epoch 110/150\n",
            "25/25 [==============================] - 1s 35ms/step - loss: 1.4716 - mae: 1.9107\n",
            "Epoch 111/150\n",
            "25/25 [==============================] - 1s 36ms/step - loss: 1.4738 - mae: 1.9136\n",
            "Epoch 112/150\n",
            "25/25 [==============================] - 1s 36ms/step - loss: 1.4726 - mae: 1.9120\n",
            "Epoch 113/150\n",
            "25/25 [==============================] - 1s 36ms/step - loss: 1.4652 - mae: 1.9035\n",
            "Epoch 114/150\n",
            "25/25 [==============================] - 1s 36ms/step - loss: 1.4652 - mae: 1.9032\n",
            "Epoch 115/150\n",
            "25/25 [==============================] - 1s 36ms/step - loss: 1.4664 - mae: 1.9050\n",
            "Epoch 116/150\n",
            "25/25 [==============================] - 1s 35ms/step - loss: 1.4663 - mae: 1.9048\n",
            "Epoch 117/150\n",
            "25/25 [==============================] - 1s 36ms/step - loss: 1.4672 - mae: 1.9059\n",
            "Epoch 118/150\n",
            "25/25 [==============================] - 1s 36ms/step - loss: 1.4656 - mae: 1.9039\n",
            "Epoch 119/150\n",
            "25/25 [==============================] - 1s 36ms/step - loss: 1.4677 - mae: 1.9064\n",
            "Epoch 120/150\n",
            "25/25 [==============================] - 1s 37ms/step - loss: 1.4705 - mae: 1.9100\n",
            "Epoch 121/150\n",
            "25/25 [==============================] - 1s 35ms/step - loss: 1.4629 - mae: 1.9013\n",
            "Epoch 122/150\n",
            "25/25 [==============================] - 1s 37ms/step - loss: 1.4654 - mae: 1.9039\n",
            "Epoch 123/150\n",
            "25/25 [==============================] - 1s 36ms/step - loss: 1.4669 - mae: 1.9057\n",
            "Epoch 124/150\n",
            "25/25 [==============================] - 1s 36ms/step - loss: 1.4682 - mae: 1.9068\n",
            "Epoch 125/150\n",
            "25/25 [==============================] - 1s 35ms/step - loss: 1.4634 - mae: 1.9015\n",
            "Epoch 126/150\n",
            "25/25 [==============================] - 1s 36ms/step - loss: 1.4626 - mae: 1.9008\n",
            "Epoch 127/150\n",
            "25/25 [==============================] - 1s 36ms/step - loss: 1.4648 - mae: 1.9032\n",
            "Epoch 128/150\n",
            "25/25 [==============================] - 1s 36ms/step - loss: 1.4716 - mae: 1.9110\n",
            "Epoch 129/150\n",
            "25/25 [==============================] - 1s 36ms/step - loss: 1.4635 - mae: 1.9021\n",
            "Epoch 130/150\n",
            "25/25 [==============================] - 1s 36ms/step - loss: 1.4634 - mae: 1.9018\n",
            "Epoch 131/150\n",
            "25/25 [==============================] - 1s 35ms/step - loss: 1.4654 - mae: 1.9043\n",
            "Epoch 132/150\n",
            "25/25 [==============================] - 1s 36ms/step - loss: 1.4724 - mae: 1.9120\n",
            "Epoch 133/150\n",
            "25/25 [==============================] - 1s 35ms/step - loss: 1.4652 - mae: 1.9038\n",
            "Epoch 134/150\n",
            "25/25 [==============================] - 1s 36ms/step - loss: 1.4640 - mae: 1.9024\n",
            "Epoch 135/150\n",
            "25/25 [==============================] - 1s 36ms/step - loss: 1.4637 - mae: 1.9025\n",
            "Epoch 136/150\n",
            "25/25 [==============================] - 1s 36ms/step - loss: 1.4661 - mae: 1.9052\n",
            "Epoch 137/150\n",
            "25/25 [==============================] - 1s 35ms/step - loss: 1.4640 - mae: 1.9029\n",
            "Epoch 138/150\n",
            "25/25 [==============================] - 1s 36ms/step - loss: 1.4635 - mae: 1.9021\n",
            "Epoch 139/150\n",
            "25/25 [==============================] - 2s 52ms/step - loss: 1.4615 - mae: 1.8997\n",
            "Epoch 140/150\n",
            "25/25 [==============================] - 1s 36ms/step - loss: 1.4613 - mae: 1.8996\n",
            "Epoch 141/150\n",
            "25/25 [==============================] - 1s 36ms/step - loss: 1.4593 - mae: 1.8974\n",
            "Epoch 142/150\n",
            "25/25 [==============================] - 1s 36ms/step - loss: 1.4579 - mae: 1.8960\n",
            "Epoch 143/150\n",
            "25/25 [==============================] - 1s 36ms/step - loss: 1.4580 - mae: 1.8960\n",
            "Epoch 144/150\n",
            "25/25 [==============================] - 1s 36ms/step - loss: 1.4643 - mae: 1.9033\n",
            "Epoch 145/150\n",
            "25/25 [==============================] - 1s 36ms/step - loss: 1.4630 - mae: 1.9018\n",
            "Epoch 146/150\n",
            "25/25 [==============================] - 1s 35ms/step - loss: 1.4606 - mae: 1.8990\n",
            "Epoch 147/150\n",
            "25/25 [==============================] - 1s 36ms/step - loss: 1.4578 - mae: 1.8957\n",
            "Epoch 148/150\n",
            "25/25 [==============================] - 1s 36ms/step - loss: 1.4764 - mae: 1.9162\n",
            "Epoch 149/150\n",
            "25/25 [==============================] - 1s 36ms/step - loss: 1.4627 - mae: 1.9015\n",
            "Epoch 150/150\n",
            "25/25 [==============================] - 1s 36ms/step - loss: 1.4588 - mae: 1.8969\n"
          ]
        }
      ]
    },
    {
      "cell_type": "code",
      "metadata": {
        "id": "GaC6NNMRp0lb"
      },
      "source": [
        "rnn_forecast = model_forecast(model, series[..., np.newaxis], window_size)\n",
        "rnn_forecast = rnn_forecast[split_time - window_size:-1, -1, 0]"
      ],
      "execution_count": 13,
      "outputs": []
    },
    {
      "cell_type": "code",
      "metadata": {
        "id": "izy6wl2S9d-2",
        "colab": {
          "base_uri": "https://localhost:8080/",
          "height": 389
        },
        "outputId": "283a6c67-0ad0-4150-d2d0-2cf486d814eb"
      },
      "source": [
        "plt.figure(figsize=(10, 6))\n",
        "plot_series(time_valid, x_valid)\n",
        "plot_series(time_valid, rnn_forecast)\n",
        "\n",
        "# EXPECTED OUTPUT. PLOT SHOULD SHOW PROJECTIONS FOLLOWING ORIGINAL DATA CLOSELY"
      ],
      "execution_count": 14,
      "outputs": [
        {
          "output_type": "display_data",
          "data": {
            "text/plain": [
              "<Figure size 720x432 with 1 Axes>"
            ],
            "image/png": "[encoded data removed]"
          },
          "metadata": {
            "needs_background": "light"
          }
        }
      ]
    },
    {
      "cell_type": "code",
      "metadata": {
        "id": "13XrorC5wQoE",
        "colab": {
          "base_uri": "https://localhost:8080/"
        },
        "outputId": "e0639be1-1785-4895-c028-7357b5fd2243"
      },
      "source": [
        "tf.keras.metrics.mean_absolute_error(x_valid, rnn_forecast).numpy()\n",
        "\n",
        "# EXPECTED OUTPUT MAE < 2 -- I GOT 1.789626"
      ],
      "execution_count": 15,
      "outputs": [
        {
          "output_type": "execute_result",
          "data": {
            "text/plain": [
              "1.8276677"
            ]
          },
          "metadata": {},
          "execution_count": 15
        }
      ]
    },
    {
      "cell_type": "code",
      "metadata": {
        "id": "AOVzQXxCwkzP",
        "colab": {
          "base_uri": "https://localhost:8080/"
        },
        "outputId": "15b57b3a-9f3f-415b-bab3-49588d5c4f1b"
      },
      "source": [
        "print(rnn_forecast)\n",
        "# EXPECTED OUTPUT -- ARRAY OF VALUES IN THE LOW TEENS"
      ],
      "execution_count": 16,
      "outputs": [
        {
          "output_type": "stream",
          "name": "stdout",
          "text": [
            "[11.869322 11.263582 12.266306 ... 13.50918  13.544956 14.573307]\n"
          ]
        }
      ]
    }
  ]
}